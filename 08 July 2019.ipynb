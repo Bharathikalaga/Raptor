{
 "cells": [
  {
   "cell_type": "markdown",
   "metadata": {},
   "source": [
    "# Practiced tasks:"
   ]
  },
  {
   "cell_type": "code",
   "execution_count": 2,
   "metadata": {},
   "outputs": [
    {
     "name": "stdout",
     "output_type": "stream",
     "text": [
      "1\n",
      "10\n",
      "6\n"
     ]
    }
   ],
   "source": [
    "# Function to print all numbers divisible by 6 and not a factor of 100 in a given range(lb, ub) inclusive\n",
    "def numDivisible(start,end):\n",
    "    for i in range(start,end+1):\n",
    "        if i % 6 ==0 and 100 % i !=0:\n",
    "            return i\n",
    "    \n",
    "start = int(input())\n",
    "end = int(input())\n",
    "print(numDivisible(start,end))"
   ]
  },
  {
   "cell_type": "code",
   "execution_count": 5,
   "metadata": {},
   "outputs": [
    {
     "name": "stdout",
     "output_type": "stream",
     "text": [
      "2\n",
      "6\n",
      "96\n"
     ]
    }
   ],
   "source": [
    "# Function to find the average of cubes of all even numbers in a given range(lb, ub) inclusive\n",
    "def cub(srat,end):\n",
    "    average =0\n",
    "    count =0\n",
    "    for i in range(start,end+1):\n",
    "        if i % 2 ==0:\n",
    "            cube = i**3\n",
    "            average+=cube\n",
    "            count+=1\n",
    "    return(average//count)\n",
    "            \n",
    "    \n",
    "    \n",
    "start = int(input())\n",
    "end = int(input())\n",
    "print(cub(start,end))"
   ]
  },
  {
   "cell_type": "code",
   "execution_count": 9,
   "metadata": {},
   "outputs": [
    {
     "name": "stdout",
     "output_type": "stream",
     "text": [
      "6\n",
      "1\n",
      "2\n",
      "3\n",
      "6\n"
     ]
    }
   ],
   "source": [
    "# Function to generate the list of factors for a given number\n",
    "def factors(n):\n",
    "    for i in range(1,n+1):\n",
    "        if n % i == 0:\n",
    "            print(i)\n",
    "            \n",
    "    \n",
    "    \n",
    "n = int(input())\n",
    "factors(n)"
   ]
  },
  {
   "cell_type": "code",
   "execution_count": 26,
   "metadata": {},
   "outputs": [
    {
     "name": "stdout",
     "output_type": "stream",
     "text": [
      "5\n",
      "120\n"
     ]
    }
   ],
   "source": [
    "# Function to calculate the factorial of a given number\n",
    "def factorial(n):\n",
    "    fact = 1\n",
    "    for i in range(1,n+1):\n",
    "        if n==1 or n==0:\n",
    "            return 1\n",
    "        else:\n",
    "            fact = fact*i\n",
    "    return(fact)\n",
    "             \n",
    "n = int(input())\n",
    "print(factorial(n))"
   ]
  },
  {
   "cell_type": "code",
   "execution_count": 7,
   "metadata": {},
   "outputs": [
    {
     "name": "stdout",
     "output_type": "stream",
     "text": [
      "11\n"
     ]
    },
    {
     "data": {
      "text/plain": [
       "True"
      ]
     },
     "execution_count": 7,
     "metadata": {},
     "output_type": "execute_result"
    }
   ],
   "source": [
    "# Function to check if a given number is Prime\n",
    "def isPrime(n):\n",
    "    for i in range(2,n//2):\n",
    "        if n%i == 0:\n",
    "            return False\n",
    "    return True\n",
    "        \n",
    "    \n",
    "    \n",
    "n = int(input())\n",
    "isPrime(n)"
   ]
  },
  {
   "cell_type": "code",
   "execution_count": 10,
   "metadata": {},
   "outputs": [
    {
     "name": "stdout",
     "output_type": "stream",
     "text": [
      "2\n",
      "11\n"
     ]
    },
    {
     "data": {
      "text/plain": [
       "5"
      ]
     },
     "execution_count": 10,
     "metadata": {},
     "output_type": "execute_result"
    }
   ],
   "source": [
    "# Function to calculate the average first N Prime numbers\n",
    "def avgPrimeNum(lb,ub):\n",
    "    s = 0\n",
    "    c = 0\n",
    "    for i in range(lb,ub+1):\n",
    "        if  isPrime(i):\n",
    "            s = s+i\n",
    "            c = c+1\n",
    "    return(s//c)\n",
    "            \n",
    "    \n",
    "    \n",
    "lb= int(input())\n",
    "ub = int(input())\n",
    "avgPrimeNum(lb,ub)\n"
   ]
  },
  {
   "cell_type": "code",
   "execution_count": 25,
   "metadata": {},
   "outputs": [
    {
     "name": "stdout",
     "output_type": "stream",
     "text": [
      "1\n",
      "28\n",
      "6\n",
      "28\n"
     ]
    }
   ],
   "source": [
    "# Function to generate all Perfect numbers in a given range\n",
    "def isperfect(n):\n",
    "    s = 0\n",
    "    for i in range(1,n):\n",
    "        if n % i==0:\n",
    "            s+=i\n",
    "    if s == n:\n",
    "        return True\n",
    "    return False\n",
    "#n =int(input())\n",
    "#isperfect(n)\n",
    "def perfectrange(lb,ub):\n",
    "    for i in range(lb,ub+1):\n",
    "        if isperfect(i):\n",
    "            print(i)\n",
    "    \n",
    "lb = int(input())\n",
    "ub = int(input())\n",
    "perfectrange(lb,ub)    \n",
    "    \n",
    "    "
   ]
  },
  {
   "cell_type": "code",
   "execution_count": 29,
   "metadata": {},
   "outputs": [
    {
     "name": "stdout",
     "output_type": "stream",
     "text": [
      "6\n",
      "29\n",
      "6\n",
      "28\n"
     ]
    }
   ],
   "source": [
    "def perfectrange(lb,ub):\n",
    "    for i in range(lb,ub):\n",
    "        if isperfect(i):\n",
    "            print(i)\n",
    "    \n",
    "lb = int(input())\n",
    "ub = int(input())\n",
    "perfectrange(lb,ub)"
   ]
  }
 ],
 "metadata": {
  "kernelspec": {
   "display_name": "Python 3",
   "language": "python",
   "name": "python3"
  },
  "language_info": {
   "codemirror_mode": {
    "name": "ipython",
    "version": 3
   },
   "file_extension": ".py",
   "mimetype": "text/x-python",
   "name": "python",
   "nbconvert_exporter": "python",
   "pygments_lexer": "ipython3",
   "version": "3.7.3"
  }
 },
 "nbformat": 4,
 "nbformat_minor": 2
}
