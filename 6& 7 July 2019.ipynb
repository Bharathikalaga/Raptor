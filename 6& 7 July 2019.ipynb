{
 "cells": [
  {
   "cell_type": "code",
   "execution_count": 2,
   "metadata": {},
   "outputs": [
    {
     "name": "stdout",
     "output_type": "stream",
     "text": [
      "2\n",
      "abe\n",
      "acd\n",
      "4\n",
      "ac\n",
      "de\n",
      "4\n"
     ]
    }
   ],
   "source": [
    "# Anagrams:\n",
    "\n",
    "# Write your code her\n",
    "t = int(input())\n",
    "for i in range (t):\n",
    "    a = list(input())\n",
    "    b = list(input())\n",
    "    k = 0\n",
    "    if len(a)>=len(b):\n",
    "        for i in range(len(a)):\n",
    "            if a[i] in b:\n",
    "                k = k+1\n",
    "                ele = b.index(a[i])\n",
    "                b[ele] = '0'\n",
    "    else:\n",
    "        for j in range(len(b)):\n",
    "            if b[j] in a:\n",
    "                k = k+1\n",
    "                ele = a.index(b[j])\n",
    "                a[ele] = '0'\n",
    "    print((len(a)-k)+(len(b)-k))"
   ]
  },
  {
   "cell_type": "code",
   "execution_count": 28,
   "metadata": {},
   "outputs": [
    {
     "name": "stdout",
     "output_type": "stream",
     "text": [
      "5\n",
      "1 2 3 4 5 \n",
      "120\n"
     ]
    }
   ],
   "source": [
    "# Find Product\n",
    "def findProduct(a):\n",
    "    total=1\n",
    "    for j in a:\n",
    "        total=(total*j)%(10**9+7)\n",
    "    return total\n",
    "\n",
    "n=int(input())\n",
    "a=list(map(int,input().split()))[:n]\n",
    "print(findProduct(a))"
   ]
  },
  {
   "cell_type": "code",
   "execution_count": 34,
   "metadata": {},
   "outputs": [
    {
     "name": "stdout",
     "output_type": "stream",
     "text": [
      "2\n",
      "2\n",
      "89\n",
      "89\n",
      "42\n"
     ]
    }
   ],
   "source": [
    "# Life, the Universe, and Everything\n",
    "\n",
    "f=True\n",
    "while f:\n",
    "    N=int(input())\n",
    "    if N==42:\n",
    "        break\n",
    "    print(N)"
   ]
  },
  {
   "cell_type": "code",
   "execution_count": 33,
   "metadata": {},
   "outputs": [
    {
     "name": "stdout",
     "output_type": "stream",
     "text": [
      "HB\n",
      "HappyBirthday\n"
     ]
    }
   ],
   "source": [
    "s=\"HelloWorld HowAreYou HappyBirthday\"\n",
    "t=input()\n",
    "li = []\n",
    "for i in s.split():\n",
    "    if t[0] in i and t[1] in i:\n",
    "        print(i)\n",
    "        "
   ]
  },
  {
   "cell_type": "code",
   "execution_count": null,
   "metadata": {},
   "outputs": [],
   "source": []
  }
 ],
 "metadata": {
  "kernelspec": {
   "display_name": "Python 3",
   "language": "python",
   "name": "python3"
  },
  "language_info": {
   "codemirror_mode": {
    "name": "ipython",
    "version": 3
   },
   "file_extension": ".py",
   "mimetype": "text/x-python",
   "name": "python",
   "nbconvert_exporter": "python",
   "pygments_lexer": "ipython3",
   "version": "3.7.3"
  }
 },
 "nbformat": 4,
 "nbformat_minor": 2
}
